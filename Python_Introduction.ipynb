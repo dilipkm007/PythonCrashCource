{
  "nbformat": 4,
  "nbformat_minor": 0,
  "metadata": {
    "colab": {
      "provenance": [],
      "toc_visible": true,
      "authorship_tag": "ABX9TyNW3Pngz8o2btB1E8yEGUCk",
      "include_colab_link": true
    },
    "kernelspec": {
      "name": "python3",
      "display_name": "Python 3"
    },
    "language_info": {
      "name": "python"
    }
  },
  "cells": [
    {
      "cell_type": "markdown",
      "metadata": {
        "id": "view-in-github",
        "colab_type": "text"
      },
      "source": [
        "<a href=\"https://colab.research.google.com/github/dilipkm007/PythonCrashCource/blob/main/Python_Introduction.ipynb\" target=\"_parent\"><img src=\"https://colab.research.google.com/assets/colab-badge.svg\" alt=\"Open In Colab\"/></a>"
      ]
    },
    {
      "cell_type": "markdown",
      "source": [
        "## Variables and Expressions"
      ],
      "metadata": {
        "id": "JyPsHUTMZop6"
      }
    },
    {
      "cell_type": "code",
      "execution_count": 7,
      "metadata": {
        "colab": {
          "base_uri": "https://localhost:8080/"
        },
        "id": "KatpmruOWc2Z",
        "outputId": "872fc4e9-4887-4a47-d8ab-bcae93d71791"
      },
      "outputs": [
        {
          "output_type": "stream",
          "name": "stdout",
          "text": [
            "  1 1050.00\n",
            "  2 1102.50\n",
            "  3 1157.62\n",
            "  4 1215.51\n",
            "  5 1276.28\n"
          ]
        }
      ],
      "source": [
        "# Calculate compound-interest\n",
        "\n",
        "principal = 1000\n",
        "rate = 0.05\n",
        "numyears = 5\n",
        "year = 1\n",
        "\n",
        "while year <= numyears:\n",
        "    principal = principal * (1 + rate)\n",
        "    print(f'{year:>3d} {principal:0.2f}')\n",
        "    year += 1"
      ]
    }
  ]
}